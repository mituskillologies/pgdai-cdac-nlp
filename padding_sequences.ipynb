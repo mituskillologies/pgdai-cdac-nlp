{
  "nbformat": 4,
  "nbformat_minor": 0,
  "metadata": {
    "colab": {
      "provenance": []
    },
    "kernelspec": {
      "name": "python3",
      "display_name": "Python 3"
    },
    "language_info": {
      "name": "python"
    }
  },
  "cells": [
    {
      "cell_type": "code",
      "execution_count": null,
      "metadata": {
        "id": "HN3eKUG9mGNt"
      },
      "outputs": [],
      "source": [
        "seq = [[3, 7], [12, 17, 19], [27, 65, 73, 81]]"
      ]
    },
    {
      "cell_type": "code",
      "source": [
        "import tensorflow as tf\n",
        "tf.keras.preprocessing.sequence.pad_sequences(seq)"
      ],
      "metadata": {
        "colab": {
          "base_uri": "https://localhost:8080/"
        },
        "id": "ouXViHPwmNSV",
        "outputId": "97c05e53-33a0-45b1-e337-a410761cedde"
      },
      "execution_count": null,
      "outputs": [
        {
          "output_type": "execute_result",
          "data": {
            "text/plain": [
              "array([[ 0,  0,  3,  7],\n",
              "       [ 0, 12, 17, 19],\n",
              "       [27, 65, 73, 81]], dtype=int32)"
            ]
          },
          "metadata": {},
          "execution_count": 2
        }
      ]
    },
    {
      "cell_type": "code",
      "source": [
        "tf.keras.preprocessing.sequence.pad_sequences(seq, value = 1)"
      ],
      "metadata": {
        "colab": {
          "base_uri": "https://localhost:8080/"
        },
        "id": "0EpvQi-DmREM",
        "outputId": "4bee8769-432c-4733-f314-7e29ad76bbb3"
      },
      "execution_count": null,
      "outputs": [
        {
          "output_type": "execute_result",
          "data": {
            "text/plain": [
              "array([[ 1,  1,  3,  7],\n",
              "       [ 1, 12, 17, 19],\n",
              "       [27, 65, 73, 81]], dtype=int32)"
            ]
          },
          "metadata": {},
          "execution_count": 3
        }
      ]
    },
    {
      "cell_type": "code",
      "source": [],
      "metadata": {
        "id": "edyAeRprmYd2"
      },
      "execution_count": null,
      "outputs": []
    }
  ]
}