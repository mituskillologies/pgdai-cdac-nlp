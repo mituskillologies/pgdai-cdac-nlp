{
 "cells": [
  {
   "cell_type": "code",
   "execution_count": 3,
   "metadata": {},
   "outputs": [],
   "source": [
    "from tkinter import *"
   ]
  },
  {
   "cell_type": "code",
   "execution_count": 22,
   "metadata": {},
   "outputs": [],
   "source": [
    "top = Tk()\n",
    "top.title('My Program')\n",
    "top.geometry('500x350')\n",
    "\n",
    "def show():\n",
    "    n = int(num.get())\n",
    "    Label(text='The Square is: '+str(n*n)).place(x=150,y=200)\n",
    "\n",
    "num = IntVar()\n",
    "l = Label(text='Enter Number:').place(x=50,y=100)\n",
    "e = Entry(textvariable=num).place(x=200,y=100)\n",
    "b = Button(text='Submit',command=show).place(x=150,y=150)\n",
    "\n",
    "top.mainloop()"
   ]
  },
  {
   "cell_type": "code",
   "execution_count": 31,
   "metadata": {},
   "outputs": [],
   "source": [
    "import joblib\n",
    "from nltk.corpus import stopwords\n",
    "from nltk.stem import PorterStemmer\n",
    "from nltk.tokenize import word_tokenize\n",
    "import string\n",
    "\n",
    "swords = stopwords.words('english')\n",
    "ps = PorterStemmer()\n",
    "def clean_text(sent):\n",
    "    text = [word for word in word_tokenize(sent) \n",
    "            if word not in string.punctuation]\n",
    "    text = [ps.stem(word.lower()) for word in text \n",
    "            if word.lower() not in swords]\n",
    "    return text\n",
    "\n",
    "model = joblib.load('classifier.model')\n",
    "tfidf = joblib.load('tfidf.model')\n",
    "\n",
    "top = Tk()\n",
    "top.title('My Program')\n",
    "top.geometry('500x350')\n",
    "\n",
    "def show():\n",
    "    msg = str(text.get())\n",
    "    pred = model.predict(tfidf.transform([msg]))\n",
    "    Label(text=pred[0]).place(x=150,y=200)\n",
    "\n",
    "text = StringVar()\n",
    "l = Label(text='Enter Text:').place(x=50,y=100)\n",
    "e = Entry(textvariable=text).place(x=200,y=100)\n",
    "b = Button(text='Submit',command=show).place(x=150,y=150)\n",
    "\n",
    "top.mainloop()"
   ]
  },
  {
   "cell_type": "code",
   "execution_count": null,
   "metadata": {},
   "outputs": [],
   "source": []
  }
 ],
 "metadata": {
  "kernelspec": {
   "display_name": "Python 3",
   "language": "python",
   "name": "python3"
  },
  "language_info": {
   "codemirror_mode": {
    "name": "ipython",
    "version": 3
   },
   "file_extension": ".py",
   "mimetype": "text/x-python",
   "name": "python",
   "nbconvert_exporter": "python",
   "pygments_lexer": "ipython3",
   "version": "3.8.10"
  }
 },
 "nbformat": 4,
 "nbformat_minor": 4
}
