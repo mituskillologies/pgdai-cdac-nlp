{
  "nbformat": 4,
  "nbformat_minor": 0,
  "metadata": {
    "colab": {
      "provenance": []
    },
    "kernelspec": {
      "name": "python3",
      "display_name": "Python 3"
    },
    "language_info": {
      "name": "python"
    }
  },
  "cells": [
    {
      "cell_type": "code",
      "execution_count": null,
      "metadata": {
        "colab": {
          "base_uri": "https://localhost:8080/"
        },
        "id": "82FHO3-LVQp8",
        "outputId": "0a2fca1f-4978-4808-c83c-29aebb0520a8"
      },
      "outputs": [
        {
          "output_type": "stream",
          "name": "stdout",
          "text": [
            "Mounted at /content/drive\n"
          ]
        }
      ],
      "source": [
        "from google.colab import drive\n",
        "drive.mount('/content/drive')"
      ]
    },
    {
      "cell_type": "code",
      "source": [
        "import string\n",
        "import re\n",
        "from os import listdir\n",
        "from nltk.corpus import stopwords\n",
        "from keras.preprocessing.text import Tokenizer\n",
        "from keras.utils.vis_utils import plot_model\n",
        "from keras.models import Sequential\n",
        "from keras.layers import Dense\n",
        "import numpy as np\n",
        "import nltk\n",
        "nltk.download('stopwords')"
      ],
      "metadata": {
        "colab": {
          "base_uri": "https://localhost:8080/"
        },
        "id": "czOXGlZcVYZd",
        "outputId": "78f2d2f6-5b6b-4017-f9ff-e6ba54d07020"
      },
      "execution_count": null,
      "outputs": [
        {
          "output_type": "stream",
          "name": "stderr",
          "text": [
            "[nltk_data] Downloading package stopwords to /root/nltk_data...\n",
            "[nltk_data]   Unzipping corpora/stopwords.zip.\n"
          ]
        },
        {
          "output_type": "execute_result",
          "data": {
            "text/plain": [
              "True"
            ]
          },
          "metadata": {},
          "execution_count": 2
        }
      ]
    },
    {
      "cell_type": "code",
      "source": [
        "# load doc into memory\n",
        "def load_doc(filename):\n",
        "  # open the file as read only\n",
        "  file = open(filename, 'r' )\n",
        "  # read all text\n",
        "  text = file.read()\n",
        "  # close the file\n",
        "  file.close()\n",
        "  return text"
      ],
      "metadata": {
        "id": "ui4TKv_KXG2z"
      },
      "execution_count": null,
      "outputs": []
    },
    {
      "cell_type": "code",
      "source": [
        "text = load_doc('drive/MyDrive/review_polarity/txt_sentoken/pos/cv026_29325.txt')"
      ],
      "metadata": {
        "id": "QOGkPR4DYohi"
      },
      "execution_count": null,
      "outputs": []
    },
    {
      "cell_type": "code",
      "source": [
        "# turn a doc into clean tokens\n",
        "def clean_doc(doc):\n",
        "  # split into tokens by white space\n",
        "  tokens = doc.split()\n",
        "  # prepare regex for char filtering\n",
        "  re_punc = re.compile( '[%s]' % re.escape(string.punctuation))\n",
        "  # remove punctuation from each word\n",
        "  tokens = [re_punc.sub( '' , w) for w in tokens]\n",
        "  # remove remaining tokens that are not alphabetic\n",
        "  tokens = [word for word in tokens if word.isalpha()]\n",
        "  # filter out stop words\n",
        "  stop_words = set(stopwords.words( 'english' ))\n",
        "  tokens = [w for w in tokens if not w in stop_words]\n",
        "  # filter out short tokens\n",
        "  tokens = [word for word in tokens if len(word) > 1]\n",
        "  return tokens"
      ],
      "metadata": {
        "id": "V1Sqdw1JaJdz"
      },
      "execution_count": null,
      "outputs": []
    },
    {
      "cell_type": "code",
      "source": [
        "text = load_doc('drive/MyDrive/review_polarity/txt_sentoken/pos/cv026_29325.txt')\n",
        "clean_doc(text)"
      ],
      "metadata": {
        "colab": {
          "base_uri": "https://localhost:8080/"
        },
        "id": "UTQkIhPZd-zg",
        "outputId": "0ae94e7f-9c48-4fd4-934b-2f6d7535f108"
      },
      "execution_count": null,
      "outputs": [
        {
          "output_type": "execute_result",
          "data": {
            "text/plain": [
              "['us',\n",
              " 'werent',\n",
              " 'yet',\n",
              " 'born',\n",
              " 'rock',\n",
              " 'rolled',\n",
              " 'around',\n",
              " 'monterey',\n",
              " 'pop',\n",
              " 'affords',\n",
              " 'affectionate',\n",
              " 'glimpse',\n",
              " 'music',\n",
              " 'influenced',\n",
              " 'parents',\n",
              " 'hippies',\n",
              " 'otis',\n",
              " 'redding',\n",
              " 'jimi',\n",
              " 'hendrix',\n",
              " 'janis',\n",
              " 'joplin',\n",
              " 'mamas',\n",
              " 'papas',\n",
              " 'jefferson',\n",
              " 'airplane',\n",
              " 'documentary',\n",
              " 'jampacked',\n",
              " 'contagious',\n",
              " 'energy',\n",
              " 'give',\n",
              " 'fair',\n",
              " 'warning',\n",
              " 'reveal',\n",
              " 'ending',\n",
              " 'rest',\n",
              " 'film',\n",
              " 'justice',\n",
              " 'deserves',\n",
              " 'shot',\n",
              " 'outdoor',\n",
              " 'concert',\n",
              " 'precluded',\n",
              " 'woodstock',\n",
              " 'film',\n",
              " 'defies',\n",
              " 'stereotype',\n",
              " 'general',\n",
              " 'population',\n",
              " 'time',\n",
              " 'sure',\n",
              " 'painted',\n",
              " 'faces',\n",
              " 'smoke',\n",
              " 'joints',\n",
              " 'pennebaker',\n",
              " 'war',\n",
              " 'room',\n",
              " 'moon',\n",
              " 'broadway',\n",
              " 'surprisingly',\n",
              " 'chooses',\n",
              " 'show',\n",
              " 'broad',\n",
              " 'spectrum',\n",
              " 'audience',\n",
              " 'matter',\n",
              " 'watching',\n",
              " 'comes',\n",
              " 'back',\n",
              " 'talented',\n",
              " 'musicians',\n",
              " 'stir',\n",
              " 'soul',\n",
              " 'excitement',\n",
              " 'starts',\n",
              " 'music',\n",
              " 'even',\n",
              " 'begins',\n",
              " 'young',\n",
              " 'girl',\n",
              " 'cleaning',\n",
              " 'thousands',\n",
              " 'seats',\n",
              " 'asked',\n",
              " 'interviewer',\n",
              " 'replies',\n",
              " 'feels',\n",
              " 'lucky',\n",
              " 'moments',\n",
              " 'organized',\n",
              " 'craziness',\n",
              " 'john',\n",
              " 'phillips',\n",
              " 'leader',\n",
              " 'mamas',\n",
              " 'papas',\n",
              " 'one',\n",
              " 'concert',\n",
              " 'organizers',\n",
              " 'tries',\n",
              " 'get',\n",
              " 'touch',\n",
              " 'dionne',\n",
              " 'warwick',\n",
              " 'one',\n",
              " 'band',\n",
              " 'tuning',\n",
              " 'member',\n",
              " 'remarks',\n",
              " 'finally',\n",
              " 'decent',\n",
              " 'sound',\n",
              " 'system',\n",
              " 'tell',\n",
              " 'watching',\n",
              " 'first',\n",
              " 'moments',\n",
              " 'show',\n",
              " 'isnt',\n",
              " 'vanity',\n",
              " 'playing',\n",
              " 'music',\n",
              " 'love',\n",
              " 'appreciation',\n",
              " 'twoway',\n",
              " 'street',\n",
              " 'interaction',\n",
              " 'audience',\n",
              " 'performer',\n",
              " 'continues',\n",
              " 'throughout',\n",
              " 'film',\n",
              " 'becomes',\n",
              " 'infectious',\n",
              " 'audience',\n",
              " 'impossible',\n",
              " 'tear',\n",
              " 'eyes',\n",
              " 'away',\n",
              " 'janis',\n",
              " 'joplin',\n",
              " 'belts',\n",
              " 'ballad',\n",
              " 'love',\n",
              " 'ball',\n",
              " 'chain',\n",
              " 'lyrics',\n",
              " 'wild',\n",
              " 'thing',\n",
              " 'may',\n",
              " 'complicated',\n",
              " 'watching',\n",
              " 'jimi',\n",
              " 'hendrix',\n",
              " 'mime',\n",
              " 'sex',\n",
              " 'guitar',\n",
              " 'captivating',\n",
              " 'otis',\n",
              " 'redding',\n",
              " 'singing',\n",
              " 'love',\n",
              " 'even',\n",
              " 'dont',\n",
              " 'recognize',\n",
              " 'every',\n",
              " 'band',\n",
              " 'see',\n",
              " 'stage',\n",
              " 'imagine',\n",
              " 'enthralled',\n",
              " 'work',\n",
              " 'public',\n",
              " 'sitting',\n",
              " 'seats',\n",
              " 'drawback',\n",
              " 'film',\n",
              " 'ending',\n",
              " 'unfortunately',\n",
              " 'must',\n",
              " 'reveal',\n",
              " 'bands',\n",
              " 'big',\n",
              " 'names',\n",
              " 'still',\n",
              " 'today',\n",
              " 'got',\n",
              " 'approximately',\n",
              " 'minutes',\n",
              " 'screen',\n",
              " 'time',\n",
              " 'contrast',\n",
              " 'last',\n",
              " 'band',\n",
              " 'camera',\n",
              " 'wholly',\n",
              " 'forgettable',\n",
              " 'one',\n",
              " 'gets',\n",
              " 'entire',\n",
              " 'minutes',\n",
              " 'screen',\n",
              " 'time',\n",
              " 'film',\n",
              " 'thats',\n",
              " 'minutes',\n",
              " 'long',\n",
              " 'thats',\n",
              " 'large',\n",
              " 'chunk',\n",
              " 'especially',\n",
              " 'previous',\n",
              " 'acts',\n",
              " 'much',\n",
              " 'stimulating',\n",
              " 'monterey',\n",
              " 'pop',\n",
              " 'precious',\n",
              " 'rare',\n",
              " 'look',\n",
              " 'time',\n",
              " 'period',\n",
              " 'still',\n",
              " 'holds',\n",
              " 'sway',\n",
              " 'us',\n",
              " 'variety',\n",
              " 'music',\n",
              " 'well',\n",
              " 'beautifully',\n",
              " 'shot',\n",
              " 'performances',\n",
              " 'easy',\n",
              " 'become',\n",
              " 'immersed',\n",
              " 'ever',\n",
              " 'question',\n",
              " 'bands',\n",
              " 'popular',\n",
              " 'quickly',\n",
              " 'dispelled',\n",
              " 'almost',\n",
              " 'depressing',\n",
              " 'think',\n",
              " 'music',\n",
              " 'moving',\n",
              " 'doesnt',\n",
              " 'get',\n",
              " 'made',\n",
              " 'much',\n",
              " 'anymore',\n",
              " 'instead',\n",
              " 'stuck',\n",
              " 'nsync',\n",
              " 'backstreet',\n",
              " 'boys',\n",
              " 'jennifer',\n",
              " 'lopez',\n",
              " 'stuck',\n",
              " 'modeling']"
            ]
          },
          "metadata": {},
          "execution_count": 6
        }
      ]
    },
    {
      "cell_type": "code",
      "source": [
        "# load doc, clean and return line of tokens\n",
        "def doc_to_line(filename, vocab):\n",
        "  # load the doc\n",
        "  doc = load_doc(filename)\n",
        "  # clean doc\n",
        "  tokens = clean_doc(doc)\n",
        "  # filter by vocab\n",
        "  tokens = [w for w in tokens if w in vocab]\n",
        "  return ' ' .join(tokens)"
      ],
      "metadata": {
        "id": "LjLO2Y13eBvA"
      },
      "execution_count": null,
      "outputs": []
    },
    {
      "cell_type": "code",
      "source": [
        "f = open('vocab.txt')\n",
        "vocab = f.read().split()\n",
        "doc_to_line('drive/MyDrive/review_polarity/txt_sentoken/pos/cv026_29325.txt', vocab)"
      ],
      "metadata": {
        "colab": {
          "base_uri": "https://localhost:8080/",
          "height": 244
        },
        "id": "o8-wG1PEqfdJ",
        "outputId": "9424e347-bb9a-49d2-f97d-b44c78bf9059"
      },
      "execution_count": null,
      "outputs": [
        {
          "output_type": "execute_result",
          "data": {
            "text/plain": [
              "'us werent yet born rock rolled around monterey pop affectionate glimpse music influenced parents hippies otis redding jimi hendrix janis joplin mamas papas jefferson airplane documentary jampacked contagious energy give fair warning reveal ending rest film justice deserves shot outdoor concert film defies stereotype general population time sure painted faces smoke joints war room moon broadway surprisingly chooses show broad spectrum audience matter watching comes back talented musicians stir soul excitement starts music even begins young girl cleaning thousands seats asked interviewer replies feels lucky moments organized craziness john phillips leader mamas papas one concert tries get touch one band tuning member remarks finally decent sound system tell watching first moments show isnt vanity playing music love appreciation street interaction audience performer continues throughout film becomes infectious audience impossible tear eyes away janis joplin belts ballad love ball chain lyrics wild thing may complicated watching jimi hendrix mime sex guitar captivating otis redding singing love even dont recognize every band see stage imagine enthralled work public sitting seats drawback film ending unfortunately must reveal bands big names still today got approximately minutes screen time contrast last band camera wholly forgettable one gets entire minutes screen time film thats minutes long thats large chunk especially previous acts much stimulating monterey pop precious rare look time period still holds sway us variety music well beautifully shot performances easy become immersed ever question bands popular quickly almost depressing think music moving doesnt get made much anymore instead stuck backstreet boys jennifer lopez stuck modeling'"
            ],
            "application/vnd.google.colaboratory.intrinsic+json": {
              "type": "string"
            }
          },
          "metadata": {},
          "execution_count": 13
        }
      ]
    },
    {
      "cell_type": "code",
      "source": [
        "# load all docs in a directory\n",
        "def process_docs(directory, vocab):\n",
        "  lines = []\n",
        "  # walk through all files in the folder\n",
        "  for filename in listdir(directory):\n",
        "    # create the full path of the file to open\n",
        "    path = directory + '/' + filename\n",
        "    # load and clean the doc\n",
        "    line = doc_to_line(path, vocab)\n",
        "    # add to list\n",
        "    lines.append(line)\n",
        "  return lines"
      ],
      "metadata": {
        "id": "gblhck-crwmA"
      },
      "execution_count": null,
      "outputs": []
    },
    {
      "cell_type": "code",
      "source": [
        "# load and clean a dataset\n",
        "def load_clean_dataset(vocab):\n",
        "  # load documents\n",
        "  neg = process_docs('drive/MyDrive/review_polarity/txt_sentoken/neg', vocab)\n",
        "  pos = process_docs('drive/MyDrive/review_polarity/txt_sentoken/pos', vocab)\n",
        "  docs = neg + pos\n",
        "  # prepare labels\n",
        "  labels = [0 for _ in range(len(neg))] + [1 for _ in range(len(pos))]\n",
        "  return docs, labels"
      ],
      "metadata": {
        "id": "V5zuWTJnujXN"
      },
      "execution_count": null,
      "outputs": []
    },
    {
      "cell_type": "code",
      "source": [
        "d, l = load_clean_dataset(vocab)"
      ],
      "metadata": {
        "id": "l9W1Bt1Nx9R6"
      },
      "execution_count": null,
      "outputs": []
    },
    {
      "cell_type": "code",
      "source": [
        "len(l)"
      ],
      "metadata": {
        "colab": {
          "base_uri": "https://localhost:8080/"
        },
        "id": "_4B4udC0yBtI",
        "outputId": "7bed72dc-db67-45bf-a349-26d884c1cc83"
      },
      "execution_count": null,
      "outputs": [
        {
          "output_type": "execute_result",
          "data": {
            "text/plain": [
              "2000"
            ]
          },
          "metadata": {},
          "execution_count": 17
        }
      ]
    },
    {
      "cell_type": "code",
      "source": [
        "from collections import Counter\n",
        "Counter(l)"
      ],
      "metadata": {
        "colab": {
          "base_uri": "https://localhost:8080/"
        },
        "id": "qeNilwh2zwUn",
        "outputId": "202d693f-29b0-41e6-e9eb-0bc7b2124ec3"
      },
      "execution_count": null,
      "outputs": [
        {
          "output_type": "execute_result",
          "data": {
            "text/plain": [
              "Counter({0: 1000, 1: 1000})"
            ]
          },
          "metadata": {},
          "execution_count": 18
        }
      ]
    },
    {
      "cell_type": "code",
      "source": [
        "# fit a tokenizer\n",
        "def create_tokenizer(lines):\n",
        "  tokenizer = Tokenizer()\n",
        "  tokenizer.fit_on_texts(lines)\n",
        "  return tokenizer"
      ],
      "metadata": {
        "id": "hKMWMwVy0erf"
      },
      "execution_count": null,
      "outputs": []
    },
    {
      "cell_type": "code",
      "source": [
        "# define the model\n",
        "def define_model(n_words):\n",
        "  # define network\n",
        "  model = Sequential()\n",
        "  model.add(Dense(50, input_shape=(n_words,), activation= 'relu' ))\n",
        "  model.add(Dense(1, activation= 'sigmoid' ))\n",
        "  # compile network\n",
        "  model.compile(loss= 'binary_crossentropy' , optimizer= 'adam' ,\n",
        "                metrics=[ 'accuracy' ])\n",
        "  # summarize defined model\n",
        "  model.summary()\n",
        "  plot_model(model, to_file= 'model.png' , show_shapes=True)\n",
        "  return model"
      ],
      "metadata": {
        "id": "lXsFbAwa3urt"
      },
      "execution_count": null,
      "outputs": []
    },
    {
      "cell_type": "code",
      "source": [
        "# load the vocabulary\n",
        "vocab_filename = 'vocab.txt'\n",
        "vocab = load_doc(vocab_filename)\n",
        "vocab = set(vocab.split())"
      ],
      "metadata": {
        "id": "2GLqsLtF5sY8"
      },
      "execution_count": null,
      "outputs": []
    },
    {
      "cell_type": "code",
      "source": [
        "# load all reviews\n",
        "train_docs, ytrain = load_clean_dataset(vocab)\n",
        "test_docs, ytest = load_clean_dataset(vocab)"
      ],
      "metadata": {
        "id": "p4t_KHup7hup"
      },
      "execution_count": null,
      "outputs": []
    },
    {
      "cell_type": "code",
      "source": [
        "# create the tokenizer\n",
        "tokenizer = create_tokenizer(train_docs)"
      ],
      "metadata": {
        "id": "fQuMTpQT72br"
      },
      "execution_count": null,
      "outputs": []
    },
    {
      "cell_type": "code",
      "source": [
        "# encode data\n",
        "Xtrain = tokenizer.texts_to_matrix(train_docs, mode= 'binary' )\n",
        "Xtest = tokenizer.texts_to_matrix(test_docs, mode= 'binary' )"
      ],
      "metadata": {
        "id": "xYY_13Bk8nS1"
      },
      "execution_count": null,
      "outputs": []
    },
    {
      "cell_type": "code",
      "source": [
        "Xtrain.shape"
      ],
      "metadata": {
        "id": "gt8zrs6S9oA9"
      },
      "execution_count": null,
      "outputs": []
    },
    {
      "cell_type": "code",
      "source": [
        "# define network\n",
        "n_words = Xtrain.shape[1]\n",
        "model = define_model(n_words)"
      ],
      "metadata": {
        "id": "G1gl6CFJ-k22"
      },
      "execution_count": null,
      "outputs": []
    },
    {
      "cell_type": "code",
      "source": [
        "# fit network\n",
        "model.fit(Xtrain, np.array(ytrain), epochs=10, batch_size=10)"
      ],
      "metadata": {
        "id": "NHC9xOWcALeY"
      },
      "execution_count": null,
      "outputs": []
    },
    {
      "cell_type": "code",
      "source": [
        "# classify a review as negative or positive\n",
        "def predict_sentiment(review):\n",
        "  # clean\n",
        "  tokens = clean_doc(review)\n",
        "  # filter by vocab\n",
        "  tokens = [w for w in tokens if w in vocab]\n",
        "  # convert to line\n",
        "  line = ' ' .join(tokens)\n",
        "  # encode\n",
        "  encoded = tokenizer.texts_to_matrix([line], mode= 'binary' )\n",
        "  # predict sentiment\n",
        "  yhat = model.predict(encoded, verbose=0)\n",
        "  # retrieve predicted percentage and label\n",
        "  percent_pos = yhat[0,0]\n",
        "  if round(percent_pos) == 0:\n",
        "    return (1-percent_pos), 'NEGATIVE'\n",
        "  return percent_pos, 'POSITIVE'"
      ],
      "metadata": {
        "id": "QLtJGpZkArgd"
      },
      "execution_count": null,
      "outputs": []
    },
    {
      "cell_type": "code",
      "source": [
        "# test positive text\n",
        "text = ' Best movie ever! It was great, I recommend it. '\n",
        "percent, sentiment = predict_sentiment(text, vocab, tokenizer, model)\n",
        "print( ' Review: [%s]\\nSentiment: %s (%.3f%%) ' % (text, sentiment, percent*100))"
      ],
      "metadata": {
        "id": "1ob_IlcxDdJF"
      },
      "execution_count": null,
      "outputs": []
    },
    {
      "cell_type": "code",
      "source": [
        "# test negative text\n",
        "text = ' This is a bad movie. '\n",
        "percent, sentiment = predict_sentiment(text, vocab, tokenizer, model)\n",
        "print( ' Review: [%s]\\nSentiment: %s (%.3f%%) ' % (text, sentiment, percent*100))"
      ],
      "metadata": {
        "id": "9twaPmSGgDOY"
      },
      "execution_count": null,
      "outputs": []
    },
    {
      "cell_type": "code",
      "source": [],
      "metadata": {
        "id": "sgt9BMUkgGQp"
      },
      "execution_count": null,
      "outputs": []
    }
  ]
}